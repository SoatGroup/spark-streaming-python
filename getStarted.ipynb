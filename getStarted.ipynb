{
 "cells": [
  {
   "cell_type": "code",
   "execution_count": 29,
   "metadata": {
    "collapsed": false,
    "scrolled": true
   },
   "outputs": [
    {
     "name": "stdout",
     "output_type": "stream",
     "text": [
      "[(u'', 4), (u'perspiciatis', 1), (u'cillum', 1), (u'sunt', 2), (u'r\\xe9el', 1), (u'cupidatat', 1), (u'consectetur', 1), (u'quasi', 1), (u'1.10.32', 1), (u'quisquam', 1), (u'vel', 2), (u'architecto', 1), (u'non', 2), (u'odit', 1), (u'quaerat', 1), (u'proident,', 1), (u'laboriosam,', 1), (u'vitae', 1), (u'Quis', 1), (u'natus', 1), (u'Section', 1), (u'ea', 3), (u'sequi', 1), (u'illo', 1), (u'eu', 1), (u'adipisci', 1), (u'aliqua.', 1), (u'veritatis', 1), (u'incidunt', 1), (u'nostrud', 1), (u'aliquid', 1), (u'aliquip', 1), (u'sint', 1), (u'donn\\xe9.', 1), (u'eum', 2), (u'suscipit', 1), (u'unde', 1), (u'voluptas', 2), (u'pas.', 1), (u'Ciceron', 1), (u'temps', 1), (u'voluptatem.', 1), (u'accusantium', 1), (u'opposition', 1), (u'qui', 6), (u'quo', 1), (u'Excepteur', 1), (u'amet,', 2), (u'instant', 1), (u'culpa', 1), (u'(45', 1), (u'dicta', 1), (u'produites', 1), (u'\"De', 1), (u'pratique,', 1), (u'ullam', 1), (u'Storm', 1), (u'totam', 1), (u'quis', 2), (u'molestiae', 1), (u'quia', 4), (u'nesciunt.', 1), (u'officia', 1), (u'connues', 1), (u'eaque', 1), (u'\"Sed', 1), (u'quam', 1), (u'quae', 1), (u'deserunt', 1), (u'continu,', 1), (u'consequuntur', 1), (u'voire', 1), (u'r\\xe9pond', 1), (u'eius', 1), (u'irure', 1), (u'illum', 1), (u'au', 1), (u'par', 1), (u'fugiat', 2), (u'consequatur,', 1), (u'beatae', 1), (u'traiter', 1), (u'Spark', 4), (u'cadence', 1), (u'est,', 1), (u'reprehenderit', 2), (u'pr\\xe9f\\xe8rera', 1), (u'av.', 1), (u'esse', 2), (u'ullamco', 1), (u'eos', 1), (u'si', 2), (u'velit,', 1), (u'exercitationem', 1), (u'laudantium,', 1), (u'secondes,', 1), (u'secondes.', 1), (u'eiusmod', 1), (u'le', 1), (u'la', 2), (u'dolore', 3), (u'do', 1), (u'Neque', 1), (u'de', 8), (u'aperiam,', 1), (u'nihil', 1), (u'du', 1), (u'magnam', 1), (u'ipsum', 2), (u'nisi', 2), (u'occaecat', 1), (u'flux', 1), (u'consequat.', 1), (u'iure', 1), (u'modi', 1), (u'dixi\\xe8mes', 1), (u'en', 2), (u'traitement', 3), (u'consequatur?', 1), (u'donn\\xe9es', 3), (u'ex', 2), (u'quelques', 2), (u'\"Lorem', 1), (u'labore', 2), (u'ratione', 1), (u'nostrum', 1), (u'Streaming', 3), (u'rem', 1), (u'mollit', 1), (u'Malorum\"', 1), (u'Ut', 2), (u'velit', 2), (u'magna', 1), (u'Finibus', 1), (u'aspernatur', 1), (u'ipsa', 1), (u'aliquam', 1), (u'on', 1), (u'En', 1), (u'tempor', 1), (u'fugit,', 1), (u'Bonorum', 1), (u'voluptate', 2), (u'nulla', 2), (u'autem', 1), (u'adapt\\xe9', 1), (u'minima', 1), (u'dolores', 1), (u'laboris', 1), (u'elit,', 1), (u'enim', 3), (u'veniam,', 2), (u'ipsam', 1), (u'probl\\xe9matique', 1), (u'voluptatem', 3), (u'magni', 1), (u'aut', 2), (u'\\xe0', 4), (u'et', 4), (u'explicabo.', 1), (u'pariatur.', 1), (u'consectetur,', 1), (u'sera', 1), (u'corporis', 1), (u'ut', 5), (u'des', 2), (u'un', 1), (u'error', 1), (u'J.-C.)', 1), (u'omnis', 1), (u'exercitation', 1), (u'ab', 1), (u'ad', 2), (u'aute', 1), (u'in', 4), (u'id', 1), (u'incididunt', 1), (u'numquam', 1), (u'iste', 1), (u'minim', 1), (u'inventore', 1), (u'ne', 1), (u'tempora', 1), (u'laborum.\"', 1), (u'doloremque', 1), (u'commodo', 1), (u'commodi', 1), (u'porro', 1), (u'minimum', 1), (u'est', 2), (u'permet', 1), (u'sed', 3), (u's\\u2019impose', 1), (u'sit', 4), (u'pariatur?\"', 1), (u'Nemo', 1), (u'Duis', 1), (u'anim', 1), (u'adipiscing', 1), (u'dolor', 3), (u'dolorem', 2)]\n"
     ]
    }
   ],
   "source": [
    "students = sc.textFile('students.csv')\n",
    "#dir (students)\n",
    "# Display the dataset\n",
    "#print students.collect()\n",
    "\n",
    "# Get a limited number\n",
    "#students.take(2)\n",
    "\n",
    "# filter\n",
    "someStudents = students.filter(lambda row : 'I' in row)\n",
    "\n",
    "# print someStudents.collect();\n",
    "\n",
    "\n",
    "# Map\n",
    "names = students.map(lambda row : row.split(',')[0])\n",
    "#print names.collect()\n",
    "\n",
    "\n",
    "# Map Reduce word count\n",
    "lines = sc.textFile('wordcount.txt')\n",
    "words = lines.flatMap(lambda line : line.split(' '))\n",
    "# print words.collect()\n",
    "counts = words.map(lambda word : (word, 1)).reduceByKey(lambda a, b : a + b)\n",
    "\n",
    "print counts.collect()"
   ]
  }
 ],
 "metadata": {
  "kernelspec": {
   "display_name": "Python 2",
   "language": "python",
   "name": "python2"
  },
  "language_info": {
   "codemirror_mode": {
    "name": "ipython",
    "version": 2
   },
   "file_extension": ".py",
   "mimetype": "text/x-python",
   "name": "python",
   "nbconvert_exporter": "python",
   "pygments_lexer": "ipython2",
   "version": "2.7.13"
  }
 },
 "nbformat": 4,
 "nbformat_minor": 2
}
